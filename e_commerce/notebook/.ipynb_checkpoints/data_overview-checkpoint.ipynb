{
 "cells": [
  {
   "cell_type": "markdown",
   "id": "eef070f2-cf70-4c5e-8e3b-8057f7ea2ad7",
   "metadata": {},
   "source": [
    "### 1. Importing Libraries"
   ]
  },
  {
   "cell_type": "code",
   "execution_count": 1,
   "id": "9b7d51f6-e4a8-4d03-bab7-f31587ce28c8",
   "metadata": {},
   "outputs": [],
   "source": [
    "import os\n",
    "import pandas as pd\n",
    "import numpy as np"
   ]
  },
  {
   "cell_type": "markdown",
   "id": "53c524d3-de52-467a-9bf9-92cfa9a6472b",
   "metadata": {},
   "source": [
    "### 2. Reading Data\n"
   ]
  },
  {
   "cell_type": "code",
   "execution_count": 6,
   "id": "6f1afc2c-6899-4437-b4af-d2237aecd3bc",
   "metadata": {},
   "outputs": [],
   "source": [
    "orders = pd.read_csv(\"List of Orders.csv\")\n",
    "order_details = pd.read_csv(\"Order Details.csv\")\n",
    "sales = pd.read_csv(\"Sales target.csv\")"
   ]
  },
  {
   "cell_type": "code",
   "execution_count": 8,
   "id": "f8553309-e3ed-44a9-a8d6-4bd46d21431f",
   "metadata": {},
   "outputs": [
    {
     "data": {
      "text/html": [
       "<div>\n",
       "<style scoped>\n",
       "    .dataframe tbody tr th:only-of-type {\n",
       "        vertical-align: middle;\n",
       "    }\n",
       "\n",
       "    .dataframe tbody tr th {\n",
       "        vertical-align: top;\n",
       "    }\n",
       "\n",
       "    .dataframe thead th {\n",
       "        text-align: right;\n",
       "    }\n",
       "</style>\n",
       "<table border=\"1\" class=\"dataframe\">\n",
       "  <thead>\n",
       "    <tr style=\"text-align: right;\">\n",
       "      <th></th>\n",
       "      <th>Order ID</th>\n",
       "      <th>Order Date</th>\n",
       "      <th>CustomerName</th>\n",
       "      <th>State</th>\n",
       "      <th>City</th>\n",
       "    </tr>\n",
       "  </thead>\n",
       "  <tbody>\n",
       "    <tr>\n",
       "      <th>0</th>\n",
       "      <td>B-25601</td>\n",
       "      <td>01-04-2018</td>\n",
       "      <td>Bharat</td>\n",
       "      <td>Gujarat</td>\n",
       "      <td>Ahmedabad</td>\n",
       "    </tr>\n",
       "    <tr>\n",
       "      <th>1</th>\n",
       "      <td>B-25602</td>\n",
       "      <td>01-04-2018</td>\n",
       "      <td>Pearl</td>\n",
       "      <td>Maharashtra</td>\n",
       "      <td>Pune</td>\n",
       "    </tr>\n",
       "    <tr>\n",
       "      <th>2</th>\n",
       "      <td>B-25603</td>\n",
       "      <td>03-04-2018</td>\n",
       "      <td>Jahan</td>\n",
       "      <td>Madhya Pradesh</td>\n",
       "      <td>Bhopal</td>\n",
       "    </tr>\n",
       "    <tr>\n",
       "      <th>3</th>\n",
       "      <td>B-25604</td>\n",
       "      <td>03-04-2018</td>\n",
       "      <td>Divsha</td>\n",
       "      <td>Rajasthan</td>\n",
       "      <td>Jaipur</td>\n",
       "    </tr>\n",
       "    <tr>\n",
       "      <th>4</th>\n",
       "      <td>B-25605</td>\n",
       "      <td>05-04-2018</td>\n",
       "      <td>Kasheen</td>\n",
       "      <td>West Bengal</td>\n",
       "      <td>Kolkata</td>\n",
       "    </tr>\n",
       "  </tbody>\n",
       "</table>\n",
       "</div>"
      ],
      "text/plain": [
       "  Order ID  Order Date CustomerName           State       City\n",
       "0  B-25601  01-04-2018       Bharat         Gujarat  Ahmedabad\n",
       "1  B-25602  01-04-2018        Pearl     Maharashtra       Pune\n",
       "2  B-25603  03-04-2018        Jahan  Madhya Pradesh     Bhopal\n",
       "3  B-25604  03-04-2018       Divsha       Rajasthan     Jaipur\n",
       "4  B-25605  05-04-2018      Kasheen     West Bengal    Kolkata"
      ]
     },
     "execution_count": 8,
     "metadata": {},
     "output_type": "execute_result"
    }
   ],
   "source": [
    "orders.head()"
   ]
  },
  {
   "cell_type": "code",
   "execution_count": 9,
   "id": "e138b528-09ab-45c6-899a-bb71464230a8",
   "metadata": {},
   "outputs": [
    {
     "data": {
      "text/html": [
       "<div>\n",
       "<style scoped>\n",
       "    .dataframe tbody tr th:only-of-type {\n",
       "        vertical-align: middle;\n",
       "    }\n",
       "\n",
       "    .dataframe tbody tr th {\n",
       "        vertical-align: top;\n",
       "    }\n",
       "\n",
       "    .dataframe thead th {\n",
       "        text-align: right;\n",
       "    }\n",
       "</style>\n",
       "<table border=\"1\" class=\"dataframe\">\n",
       "  <thead>\n",
       "    <tr style=\"text-align: right;\">\n",
       "      <th></th>\n",
       "      <th>Order ID</th>\n",
       "      <th>Amount</th>\n",
       "      <th>Profit</th>\n",
       "      <th>Quantity</th>\n",
       "      <th>Category</th>\n",
       "      <th>Sub-Category</th>\n",
       "    </tr>\n",
       "  </thead>\n",
       "  <tbody>\n",
       "    <tr>\n",
       "      <th>0</th>\n",
       "      <td>B-25601</td>\n",
       "      <td>1275.0</td>\n",
       "      <td>-1148.0</td>\n",
       "      <td>7</td>\n",
       "      <td>Furniture</td>\n",
       "      <td>Bookcases</td>\n",
       "    </tr>\n",
       "    <tr>\n",
       "      <th>1</th>\n",
       "      <td>B-25601</td>\n",
       "      <td>66.0</td>\n",
       "      <td>-12.0</td>\n",
       "      <td>5</td>\n",
       "      <td>Clothing</td>\n",
       "      <td>Stole</td>\n",
       "    </tr>\n",
       "    <tr>\n",
       "      <th>2</th>\n",
       "      <td>B-25601</td>\n",
       "      <td>8.0</td>\n",
       "      <td>-2.0</td>\n",
       "      <td>3</td>\n",
       "      <td>Clothing</td>\n",
       "      <td>Hankerchief</td>\n",
       "    </tr>\n",
       "    <tr>\n",
       "      <th>3</th>\n",
       "      <td>B-25601</td>\n",
       "      <td>80.0</td>\n",
       "      <td>-56.0</td>\n",
       "      <td>4</td>\n",
       "      <td>Electronics</td>\n",
       "      <td>Electronic Games</td>\n",
       "    </tr>\n",
       "    <tr>\n",
       "      <th>4</th>\n",
       "      <td>B-25602</td>\n",
       "      <td>168.0</td>\n",
       "      <td>-111.0</td>\n",
       "      <td>2</td>\n",
       "      <td>Electronics</td>\n",
       "      <td>Phones</td>\n",
       "    </tr>\n",
       "  </tbody>\n",
       "</table>\n",
       "</div>"
      ],
      "text/plain": [
       "  Order ID  Amount  Profit  Quantity     Category      Sub-Category\n",
       "0  B-25601  1275.0 -1148.0         7    Furniture         Bookcases\n",
       "1  B-25601    66.0   -12.0         5     Clothing             Stole\n",
       "2  B-25601     8.0    -2.0         3     Clothing       Hankerchief\n",
       "3  B-25601    80.0   -56.0         4  Electronics  Electronic Games\n",
       "4  B-25602   168.0  -111.0         2  Electronics            Phones"
      ]
     },
     "execution_count": 9,
     "metadata": {},
     "output_type": "execute_result"
    }
   ],
   "source": [
    "order_details.head()"
   ]
  },
  {
   "cell_type": "code",
   "execution_count": 10,
   "id": "f6014781-29ab-4471-b1d9-8a2565d9f725",
   "metadata": {},
   "outputs": [
    {
     "data": {
      "text/html": [
       "<div>\n",
       "<style scoped>\n",
       "    .dataframe tbody tr th:only-of-type {\n",
       "        vertical-align: middle;\n",
       "    }\n",
       "\n",
       "    .dataframe tbody tr th {\n",
       "        vertical-align: top;\n",
       "    }\n",
       "\n",
       "    .dataframe thead th {\n",
       "        text-align: right;\n",
       "    }\n",
       "</style>\n",
       "<table border=\"1\" class=\"dataframe\">\n",
       "  <thead>\n",
       "    <tr style=\"text-align: right;\">\n",
       "      <th></th>\n",
       "      <th>Month of Order Date</th>\n",
       "      <th>Category</th>\n",
       "      <th>Target</th>\n",
       "    </tr>\n",
       "  </thead>\n",
       "  <tbody>\n",
       "    <tr>\n",
       "      <th>0</th>\n",
       "      <td>Apr-18</td>\n",
       "      <td>Furniture</td>\n",
       "      <td>10400.0</td>\n",
       "    </tr>\n",
       "    <tr>\n",
       "      <th>1</th>\n",
       "      <td>May-18</td>\n",
       "      <td>Furniture</td>\n",
       "      <td>10500.0</td>\n",
       "    </tr>\n",
       "    <tr>\n",
       "      <th>2</th>\n",
       "      <td>Jun-18</td>\n",
       "      <td>Furniture</td>\n",
       "      <td>10600.0</td>\n",
       "    </tr>\n",
       "    <tr>\n",
       "      <th>3</th>\n",
       "      <td>Jul-18</td>\n",
       "      <td>Furniture</td>\n",
       "      <td>10800.0</td>\n",
       "    </tr>\n",
       "    <tr>\n",
       "      <th>4</th>\n",
       "      <td>Aug-18</td>\n",
       "      <td>Furniture</td>\n",
       "      <td>10900.0</td>\n",
       "    </tr>\n",
       "  </tbody>\n",
       "</table>\n",
       "</div>"
      ],
      "text/plain": [
       "  Month of Order Date   Category   Target\n",
       "0              Apr-18  Furniture  10400.0\n",
       "1              May-18  Furniture  10500.0\n",
       "2              Jun-18  Furniture  10600.0\n",
       "3              Jul-18  Furniture  10800.0\n",
       "4              Aug-18  Furniture  10900.0"
      ]
     },
     "execution_count": 10,
     "metadata": {},
     "output_type": "execute_result"
    }
   ],
   "source": [
    "sales.head()"
   ]
  },
  {
   "cell_type": "markdown",
   "id": "3f8bbe81-37ff-473d-8faf-135e996255ce",
   "metadata": {},
   "source": [
    "### 3. Joining Dataset"
   ]
  },
  {
   "cell_type": "code",
   "execution_count": 11,
   "id": "de563c05-5f05-49de-912e-b99fe799ed7a",
   "metadata": {},
   "outputs": [],
   "source": [
    "df = pd.merge(orders, order_details, on='Order ID', how='inner')\n"
   ]
  },
  {
   "cell_type": "code",
   "execution_count": 12,
   "id": "98a52502-6f85-4b92-ac80-fb2fa6ef6230",
   "metadata": {},
   "outputs": [
    {
     "data": {
      "text/html": [
       "<div>\n",
       "<style scoped>\n",
       "    .dataframe tbody tr th:only-of-type {\n",
       "        vertical-align: middle;\n",
       "    }\n",
       "\n",
       "    .dataframe tbody tr th {\n",
       "        vertical-align: top;\n",
       "    }\n",
       "\n",
       "    .dataframe thead th {\n",
       "        text-align: right;\n",
       "    }\n",
       "</style>\n",
       "<table border=\"1\" class=\"dataframe\">\n",
       "  <thead>\n",
       "    <tr style=\"text-align: right;\">\n",
       "      <th></th>\n",
       "      <th>Order ID</th>\n",
       "      <th>Order Date</th>\n",
       "      <th>CustomerName</th>\n",
       "      <th>State</th>\n",
       "      <th>City</th>\n",
       "      <th>Amount</th>\n",
       "      <th>Profit</th>\n",
       "      <th>Quantity</th>\n",
       "      <th>Category</th>\n",
       "      <th>Sub-Category</th>\n",
       "    </tr>\n",
       "  </thead>\n",
       "  <tbody>\n",
       "    <tr>\n",
       "      <th>0</th>\n",
       "      <td>B-25601</td>\n",
       "      <td>01-04-2018</td>\n",
       "      <td>Bharat</td>\n",
       "      <td>Gujarat</td>\n",
       "      <td>Ahmedabad</td>\n",
       "      <td>1275.0</td>\n",
       "      <td>-1148.0</td>\n",
       "      <td>7</td>\n",
       "      <td>Furniture</td>\n",
       "      <td>Bookcases</td>\n",
       "    </tr>\n",
       "    <tr>\n",
       "      <th>1</th>\n",
       "      <td>B-25601</td>\n",
       "      <td>01-04-2018</td>\n",
       "      <td>Bharat</td>\n",
       "      <td>Gujarat</td>\n",
       "      <td>Ahmedabad</td>\n",
       "      <td>66.0</td>\n",
       "      <td>-12.0</td>\n",
       "      <td>5</td>\n",
       "      <td>Clothing</td>\n",
       "      <td>Stole</td>\n",
       "    </tr>\n",
       "    <tr>\n",
       "      <th>2</th>\n",
       "      <td>B-25601</td>\n",
       "      <td>01-04-2018</td>\n",
       "      <td>Bharat</td>\n",
       "      <td>Gujarat</td>\n",
       "      <td>Ahmedabad</td>\n",
       "      <td>8.0</td>\n",
       "      <td>-2.0</td>\n",
       "      <td>3</td>\n",
       "      <td>Clothing</td>\n",
       "      <td>Hankerchief</td>\n",
       "    </tr>\n",
       "    <tr>\n",
       "      <th>3</th>\n",
       "      <td>B-25601</td>\n",
       "      <td>01-04-2018</td>\n",
       "      <td>Bharat</td>\n",
       "      <td>Gujarat</td>\n",
       "      <td>Ahmedabad</td>\n",
       "      <td>80.0</td>\n",
       "      <td>-56.0</td>\n",
       "      <td>4</td>\n",
       "      <td>Electronics</td>\n",
       "      <td>Electronic Games</td>\n",
       "    </tr>\n",
       "    <tr>\n",
       "      <th>4</th>\n",
       "      <td>B-25602</td>\n",
       "      <td>01-04-2018</td>\n",
       "      <td>Pearl</td>\n",
       "      <td>Maharashtra</td>\n",
       "      <td>Pune</td>\n",
       "      <td>168.0</td>\n",
       "      <td>-111.0</td>\n",
       "      <td>2</td>\n",
       "      <td>Electronics</td>\n",
       "      <td>Phones</td>\n",
       "    </tr>\n",
       "    <tr>\n",
       "      <th>...</th>\n",
       "      <td>...</td>\n",
       "      <td>...</td>\n",
       "      <td>...</td>\n",
       "      <td>...</td>\n",
       "      <td>...</td>\n",
       "      <td>...</td>\n",
       "      <td>...</td>\n",
       "      <td>...</td>\n",
       "      <td>...</td>\n",
       "      <td>...</td>\n",
       "    </tr>\n",
       "    <tr>\n",
       "      <th>1495</th>\n",
       "      <td>B-26099</td>\n",
       "      <td>30-03-2019</td>\n",
       "      <td>Bhishm</td>\n",
       "      <td>Maharashtra</td>\n",
       "      <td>Mumbai</td>\n",
       "      <td>835.0</td>\n",
       "      <td>267.0</td>\n",
       "      <td>5</td>\n",
       "      <td>Electronics</td>\n",
       "      <td>Phones</td>\n",
       "    </tr>\n",
       "    <tr>\n",
       "      <th>1496</th>\n",
       "      <td>B-26099</td>\n",
       "      <td>30-03-2019</td>\n",
       "      <td>Bhishm</td>\n",
       "      <td>Maharashtra</td>\n",
       "      <td>Mumbai</td>\n",
       "      <td>2366.0</td>\n",
       "      <td>552.0</td>\n",
       "      <td>5</td>\n",
       "      <td>Clothing</td>\n",
       "      <td>Trousers</td>\n",
       "    </tr>\n",
       "    <tr>\n",
       "      <th>1497</th>\n",
       "      <td>B-26100</td>\n",
       "      <td>31-03-2019</td>\n",
       "      <td>Hitika</td>\n",
       "      <td>Madhya Pradesh</td>\n",
       "      <td>Indore</td>\n",
       "      <td>828.0</td>\n",
       "      <td>230.0</td>\n",
       "      <td>2</td>\n",
       "      <td>Furniture</td>\n",
       "      <td>Chairs</td>\n",
       "    </tr>\n",
       "    <tr>\n",
       "      <th>1498</th>\n",
       "      <td>B-26100</td>\n",
       "      <td>31-03-2019</td>\n",
       "      <td>Hitika</td>\n",
       "      <td>Madhya Pradesh</td>\n",
       "      <td>Indore</td>\n",
       "      <td>34.0</td>\n",
       "      <td>10.0</td>\n",
       "      <td>2</td>\n",
       "      <td>Clothing</td>\n",
       "      <td>T-shirt</td>\n",
       "    </tr>\n",
       "    <tr>\n",
       "      <th>1499</th>\n",
       "      <td>B-26100</td>\n",
       "      <td>31-03-2019</td>\n",
       "      <td>Hitika</td>\n",
       "      <td>Madhya Pradesh</td>\n",
       "      <td>Indore</td>\n",
       "      <td>72.0</td>\n",
       "      <td>16.0</td>\n",
       "      <td>2</td>\n",
       "      <td>Clothing</td>\n",
       "      <td>Shirt</td>\n",
       "    </tr>\n",
       "  </tbody>\n",
       "</table>\n",
       "<p>1500 rows × 10 columns</p>\n",
       "</div>"
      ],
      "text/plain": [
       "     Order ID  Order Date CustomerName           State       City  Amount  \\\n",
       "0     B-25601  01-04-2018       Bharat         Gujarat  Ahmedabad  1275.0   \n",
       "1     B-25601  01-04-2018       Bharat         Gujarat  Ahmedabad    66.0   \n",
       "2     B-25601  01-04-2018       Bharat         Gujarat  Ahmedabad     8.0   \n",
       "3     B-25601  01-04-2018       Bharat         Gujarat  Ahmedabad    80.0   \n",
       "4     B-25602  01-04-2018        Pearl     Maharashtra       Pune   168.0   \n",
       "...       ...         ...          ...             ...        ...     ...   \n",
       "1495  B-26099  30-03-2019       Bhishm     Maharashtra     Mumbai   835.0   \n",
       "1496  B-26099  30-03-2019       Bhishm     Maharashtra     Mumbai  2366.0   \n",
       "1497  B-26100  31-03-2019       Hitika  Madhya Pradesh     Indore   828.0   \n",
       "1498  B-26100  31-03-2019       Hitika  Madhya Pradesh     Indore    34.0   \n",
       "1499  B-26100  31-03-2019       Hitika  Madhya Pradesh     Indore    72.0   \n",
       "\n",
       "      Profit  Quantity     Category      Sub-Category  \n",
       "0    -1148.0         7    Furniture         Bookcases  \n",
       "1      -12.0         5     Clothing             Stole  \n",
       "2       -2.0         3     Clothing       Hankerchief  \n",
       "3      -56.0         4  Electronics  Electronic Games  \n",
       "4     -111.0         2  Electronics            Phones  \n",
       "...      ...       ...          ...               ...  \n",
       "1495   267.0         5  Electronics            Phones  \n",
       "1496   552.0         5     Clothing          Trousers  \n",
       "1497   230.0         2    Furniture            Chairs  \n",
       "1498    10.0         2     Clothing           T-shirt  \n",
       "1499    16.0         2     Clothing             Shirt  \n",
       "\n",
       "[1500 rows x 10 columns]"
      ]
     },
     "execution_count": 12,
     "metadata": {},
     "output_type": "execute_result"
    }
   ],
   "source": [
    "df"
   ]
  },
  {
   "cell_type": "markdown",
   "id": "34e6c851-b819-4c83-8346-70e679333b2e",
   "metadata": {},
   "source": [
    "### 4. Preliminary Analysis"
   ]
  },
  {
   "cell_type": "code",
   "execution_count": 13,
   "id": "b3a84b23-f371-4b7d-af70-bdf554c679ff",
   "metadata": {},
   "outputs": [
    {
     "name": "stdout",
     "output_type": "stream",
     "text": [
      "<class 'pandas.core.frame.DataFrame'>\n",
      "Int64Index: 1500 entries, 0 to 1499\n",
      "Data columns (total 10 columns):\n",
      " #   Column        Non-Null Count  Dtype  \n",
      "---  ------        --------------  -----  \n",
      " 0   Order ID      1500 non-null   object \n",
      " 1   Order Date    1500 non-null   object \n",
      " 2   CustomerName  1500 non-null   object \n",
      " 3   State         1500 non-null   object \n",
      " 4   City          1500 non-null   object \n",
      " 5   Amount        1500 non-null   float64\n",
      " 6   Profit        1500 non-null   float64\n",
      " 7   Quantity      1500 non-null   int64  \n",
      " 8   Category      1500 non-null   object \n",
      " 9   Sub-Category  1500 non-null   object \n",
      "dtypes: float64(2), int64(1), object(7)\n",
      "memory usage: 128.9+ KB\n"
     ]
    }
   ],
   "source": [
    "df.info()"
   ]
  },
  {
   "cell_type": "markdown",
   "id": "183bacd2-968a-4566-bc7a-fbd24d05eb75",
   "metadata": {},
   "source": [
    "- data set contains 1500 rows and 10 features"
   ]
  },
  {
   "cell_type": "markdown",
   "id": "5efe8580-54d0-485f-967f-acd0fe8b7735",
   "metadata": {},
   "source": [
    "#### 3.1 Check Data types"
   ]
  },
  {
   "cell_type": "code",
   "execution_count": 15,
   "id": "457d29a9-dc93-44bf-b369-6e412aa5509c",
   "metadata": {},
   "outputs": [
    {
     "data": {
      "text/plain": [
       "Order ID         object\n",
       "Order Date       object\n",
       "CustomerName     object\n",
       "State            object\n",
       "City             object\n",
       "Amount          float64\n",
       "Profit          float64\n",
       "Quantity          int64\n",
       "Category         object\n",
       "Sub-Category     object\n",
       "dtype: object"
      ]
     },
     "execution_count": 15,
     "metadata": {},
     "output_type": "execute_result"
    }
   ],
   "source": [
    "df.dtypes\n"
   ]
  },
  {
   "cell_type": "markdown",
   "id": "ffb79cdb-17b8-48f9-a00f-dc28487d3db5",
   "metadata": {},
   "source": [
    "#### 3.2 Check for Duplicates"
   ]
  },
  {
   "cell_type": "code",
   "execution_count": 16,
   "id": "af95d185-212c-45c7-b18f-e6ad528d7f12",
   "metadata": {},
   "outputs": [
    {
     "data": {
      "text/plain": [
       "0"
      ]
     },
     "execution_count": 16,
     "metadata": {},
     "output_type": "execute_result"
    }
   ],
   "source": [
    "df.duplicated().sum()\n"
   ]
  },
  {
   "cell_type": "markdown",
   "id": "2ff0431d-c465-4e68-bf93-1c079098e9f8",
   "metadata": {},
   "source": [
    "### 4. Detailed Analysis (wrt each feature)"
   ]
  },
  {
   "cell_type": "code",
   "execution_count": 17,
   "id": "a19f721d-2ef1-4f91-b4bc-9b857b800e01",
   "metadata": {},
   "outputs": [
    {
     "data": {
      "text/plain": [
       "0       Bharat\n",
       "1       Bharat\n",
       "2       Bharat\n",
       "3       Bharat\n",
       "4        Pearl\n",
       "         ...  \n",
       "1495    Bhishm\n",
       "1496    Bhishm\n",
       "1497    Hitika\n",
       "1498    Hitika\n",
       "1499    Hitika\n",
       "Name: CustomerName, Length: 1500, dtype: object"
      ]
     },
     "execution_count": 17,
     "metadata": {},
     "output_type": "execute_result"
    }
   ],
   "source": [
    "df.CustomerName\n"
   ]
  },
  {
   "cell_type": "code",
   "execution_count": 25,
   "id": "239e101b-f517-4d28-bc2a-9d3956889725",
   "metadata": {},
   "outputs": [
    {
     "data": {
      "text/plain": [
       "0       01-04-2018\n",
       "1       01-04-2018\n",
       "2       01-04-2018\n",
       "3       01-04-2018\n",
       "4       01-04-2018\n",
       "           ...    \n",
       "1495    30-03-2019\n",
       "1496    30-03-2019\n",
       "1497    31-03-2019\n",
       "1498    31-03-2019\n",
       "1499    31-03-2019\n",
       "Name: Order Date, Length: 1500, dtype: object"
      ]
     },
     "execution_count": 25,
     "metadata": {},
     "output_type": "execute_result"
    }
   ],
   "source": [
    "df['Order Date']"
   ]
  },
  {
   "cell_type": "code",
   "execution_count": 26,
   "id": "24428c83-5ee8-4d98-8f3f-23a5f3208c60",
   "metadata": {},
   "outputs": [
    {
     "data": {
      "text/plain": [
       "0      2018-04-01\n",
       "1      2018-04-01\n",
       "2      2018-04-01\n",
       "3      2018-04-01\n",
       "4      2018-04-01\n",
       "          ...    \n",
       "1495   2019-03-30\n",
       "1496   2019-03-30\n",
       "1497   2019-03-31\n",
       "1498   2019-03-31\n",
       "1499   2019-03-31\n",
       "Name: Order Date, Length: 1500, dtype: datetime64[ns]"
      ]
     },
     "execution_count": 26,
     "metadata": {},
     "output_type": "execute_result"
    }
   ],
   "source": [
    "pd.to_datetime(df['Order Date'], dayfirst=True)\n"
   ]
  },
  {
   "cell_type": "code",
   "execution_count": 27,
   "id": "695d8968-9d6d-4643-8cd8-7db282491dbd",
   "metadata": {},
   "outputs": [
    {
     "data": {
      "text/plain": [
       "array(['Furniture', 'Clothing', 'Electronics'], dtype=object)"
      ]
     },
     "execution_count": 27,
     "metadata": {},
     "output_type": "execute_result"
    }
   ],
   "source": [
    "df.Category.unique()\n"
   ]
  },
  {
   "cell_type": "code",
   "execution_count": 29,
   "id": "7cb4b18e-651c-4a2b-8642-5dc48f09b5fe",
   "metadata": {},
   "outputs": [
    {
     "data": {
      "text/plain": [
       "array(['Bookcases', 'Stole', 'Hankerchief', 'Electronic Games', 'Phones',\n",
       "       'Saree', 'Trousers', 'Chairs', 'Kurti', 'T-shirt', 'Shirt',\n",
       "       'Leggings', 'Tables', 'Printers', 'Accessories', 'Furnishings',\n",
       "       'Skirt'], dtype=object)"
      ]
     },
     "execution_count": 29,
     "metadata": {},
     "output_type": "execute_result"
    }
   ],
   "source": [
    "df['Sub-Category'].unique()"
   ]
  },
  {
   "cell_type": "code",
   "execution_count": 31,
   "id": "a4bba43f-9eef-4eb0-a788-059780d12869",
   "metadata": {},
   "outputs": [
    {
     "data": {
      "text/plain": [
       "0              Gujarat\n",
       "1              Gujarat\n",
       "2              Gujarat\n",
       "3              Gujarat\n",
       "4          Maharashtra\n",
       "             ...      \n",
       "1495       Maharashtra\n",
       "1496       Maharashtra\n",
       "1497    Madhya Pradesh\n",
       "1498    Madhya Pradesh\n",
       "1499    Madhya Pradesh\n",
       "Name: State, Length: 1500, dtype: object"
      ]
     },
     "execution_count": 31,
     "metadata": {},
     "output_type": "execute_result"
    }
   ],
   "source": [
    "df.State"
   ]
  },
  {
   "cell_type": "code",
   "execution_count": 32,
   "id": "a0613ee5-8fcc-4581-aabe-004e9f795ccc",
   "metadata": {},
   "outputs": [
    {
     "data": {
      "text/plain": [
       "0       Ahmedabad\n",
       "1       Ahmedabad\n",
       "2       Ahmedabad\n",
       "3       Ahmedabad\n",
       "4            Pune\n",
       "          ...    \n",
       "1495       Mumbai\n",
       "1496       Mumbai\n",
       "1497       Indore\n",
       "1498       Indore\n",
       "1499       Indore\n",
       "Name: City, Length: 1500, dtype: object"
      ]
     },
     "execution_count": 32,
     "metadata": {},
     "output_type": "execute_result"
    }
   ],
   "source": [
    "df.City"
   ]
  },
  {
   "cell_type": "code",
   "execution_count": null,
   "id": "5213402d-2c88-4f37-9f51-570c2ba920a0",
   "metadata": {},
   "outputs": [],
   "source": []
  }
 ],
 "metadata": {
  "kernelspec": {
   "display_name": "Python 3 (ipykernel)",
   "language": "python",
   "name": "python3"
  },
  "language_info": {
   "codemirror_mode": {
    "name": "ipython",
    "version": 3
   },
   "file_extension": ".py",
   "mimetype": "text/x-python",
   "name": "python",
   "nbconvert_exporter": "python",
   "pygments_lexer": "ipython3",
   "version": "3.10.9"
  }
 },
 "nbformat": 4,
 "nbformat_minor": 5
}
